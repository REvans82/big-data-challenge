{
  "nbformat": 4,
  "nbformat_minor": 0,
  "metadata": {
    "colab": {
      "name": "BigData2_watches.ipynb",
      "provenance": []
    },
    "kernelspec": {
      "name": "python3",
      "display_name": "Python 3"
    },
    "language_info": {
      "name": "python"
    }
  },
  "cells": [
    {
      "cell_type": "code",
      "metadata": {
        "colab": {
          "base_uri": "https://localhost:8080/"
        },
        "id": "3AYQFGXC1O1j",
        "outputId": "8427d145-27a9-4767-efaa-9d7e8713d1e4"
      },
      "source": [
        "import os\n",
        "# Find the latest version of spark 3.0  from http://www-us.apache.org/dist/spark/ and enter as the spark version\n",
        "# For example:\n",
        "spark_version = 'spark-3.1.2'\n",
        "# spark_version = 'spark-3.<enter version>'\n",
        "os.environ['SPARK_VERSION']=spark_version\n",
        "\n",
        "# Install Spark and Java\n",
        "!apt-get update\n",
        "!apt-get install openjdk-11-jdk-headless -qq > /dev/null\n",
        "#!wget -q https://downloads.apache.org/spark/spark-3.0.1/spark-3.0.1-bin-hadoop3.2.tgz\n",
        "!wget -q https://archive.apache.org/dist/spark/spark-3.1.2/spark-3.1.2-bin-hadoop2.7.tgz\n",
        "!tar xf $SPARK_VERSION-bin-hadoop2.7.tgz\n",
        "!pip install -q findspark\n",
        "\n",
        "# Set Environment Variables\n",
        "os.environ[\"JAVA_HOME\"] = \"/usr/lib/jvm/java-11-openjdk-amd64\"\n",
        "os.environ[\"SPARK_HOME\"] = f\"/content/{spark_version}-bin-hadoop2.7\"\n",
        "\n",
        "# Start a SparkSession\n",
        "import findspark\n",
        "findspark.init()"
      ],
      "execution_count": 1,
      "outputs": [
        {
          "output_type": "stream",
          "text": [
            "\r0% [Working]\r            \rHit:1 https://cloud.r-project.org/bin/linux/ubuntu bionic-cran40/ InRelease\n",
            "Ign:2 https://developer.download.nvidia.com/compute/cuda/repos/ubuntu1804/x86_64  InRelease\n",
            "Get:3 http://security.ubuntu.com/ubuntu bionic-security InRelease [88.7 kB]\n",
            "Hit:4 http://ppa.launchpad.net/c2d4u.team/c2d4u4.0+/ubuntu bionic InRelease\n",
            "Ign:5 https://developer.download.nvidia.com/compute/machine-learning/repos/ubuntu1804/x86_64  InRelease\n",
            "Get:6 https://developer.download.nvidia.com/compute/cuda/repos/ubuntu1804/x86_64  Release [697 B]\n",
            "Hit:7 https://developer.download.nvidia.com/compute/machine-learning/repos/ubuntu1804/x86_64  Release\n",
            "Get:8 https://developer.download.nvidia.com/compute/cuda/repos/ubuntu1804/x86_64  Release.gpg [836 B]\n",
            "Hit:9 http://archive.ubuntu.com/ubuntu bionic InRelease\n",
            "Get:10 http://archive.ubuntu.com/ubuntu bionic-updates InRelease [88.7 kB]\n",
            "Hit:11 http://ppa.launchpad.net/cran/libgit2/ubuntu bionic InRelease\n",
            "Get:12 http://ppa.launchpad.net/deadsnakes/ppa/ubuntu bionic InRelease [15.9 kB]\n",
            "Get:13 http://archive.ubuntu.com/ubuntu bionic-backports InRelease [74.6 kB]\n",
            "Get:14 http://ppa.launchpad.net/graphics-drivers/ppa/ubuntu bionic InRelease [21.3 kB]\n",
            "Ign:16 https://developer.download.nvidia.com/compute/cuda/repos/ubuntu1804/x86_64  Packages\n",
            "Get:16 https://developer.download.nvidia.com/compute/cuda/repos/ubuntu1804/x86_64  Packages [599 kB]\n",
            "Get:17 http://security.ubuntu.com/ubuntu bionic-security/universe amd64 Packages [1,418 kB]\n",
            "Get:18 http://security.ubuntu.com/ubuntu bionic-security/restricted amd64 Packages [473 kB]\n",
            "Get:19 http://security.ubuntu.com/ubuntu bionic-security/main amd64 Packages [2,219 kB]\n",
            "Get:20 http://archive.ubuntu.com/ubuntu bionic-updates/main amd64 Packages [2,652 kB]\n",
            "Get:21 http://ppa.launchpad.net/deadsnakes/ppa/ubuntu bionic/main amd64 Packages [40.9 kB]\n",
            "Get:22 http://archive.ubuntu.com/ubuntu bionic-updates/restricted amd64 Packages [505 kB]\n",
            "Get:23 http://archive.ubuntu.com/ubuntu bionic-updates/universe amd64 Packages [2,188 kB]\n",
            "Get:24 http://ppa.launchpad.net/graphics-drivers/ppa/ubuntu bionic/main amd64 Packages [41.5 kB]\n",
            "Fetched 10.4 MB in 4s (2,855 kB/s)\n",
            "Reading package lists... Done\n"
          ],
          "name": "stdout"
        }
      ]
    },
    {
      "cell_type": "code",
      "metadata": {
        "id": "zjkRdN3a2mv6"
      },
      "source": [
        "# Start Spark session\n",
        "from pyspark.sql import SparkSession\n",
        "spark = SparkSession.builder.appName(\"sparkFunctions\").getOrCreate()"
      ],
      "execution_count": 2,
      "outputs": []
    },
    {
      "cell_type": "code",
      "metadata": {
        "colab": {
          "base_uri": "https://localhost:8080/"
        },
        "id": "mNOsQ49x2p3P",
        "outputId": "6b4d4091-bf48-4442-ed44-9127452a3a67"
      },
      "source": [
        "from pyspark import SparkFiles\n",
        "url =\"https://s3.amazonaws.com/amazon-reviews-pds/tsv/amazon_reviews_us_Watches_v1_00.tsv.gz\"\n",
        "spark.sparkContext.addFile(url)\n",
        "df = spark.read.csv(SparkFiles.get(\"amazon_reviews_us_Watches_v1_00.tsv.gz\"), sep=\"\\t\", header=True, inferSchema=True)\n",
        "\n",
        "# Show DataFrame\n",
        "df.show(truncate = False)"
      ],
      "execution_count": 3,
      "outputs": [
        {
          "output_type": "stream",
          "text": [
            "+-----------+-----------+--------------+----------+--------------+----------------------------------------------------------------------------------------------------+----------------+-----------+-------------+-----------+----+-----------------+----------------------------------------------------------+--------------------------------------------------------------------------------------------------------------------------------------------------------------------------------------------------------------------------------------------------------------------------------------------------------------------------------------------------------------------------------------------------------------------------------------------------------------------------------------------------------------------------------------------------------------------------------------+-----------+\n",
            "|marketplace|customer_id|review_id     |product_id|product_parent|product_title                                                                                       |product_category|star_rating|helpful_votes|total_votes|vine|verified_purchase|review_headline                                           |review_body                                                                                                                                                                                                                                                                                                                                                                                                                                                                                                                                                                           |review_date|\n",
            "+-----------+-----------+--------------+----------+--------------+----------------------------------------------------------------------------------------------------+----------------+-----------+-------------+-----------+----+-----------------+----------------------------------------------------------+--------------------------------------------------------------------------------------------------------------------------------------------------------------------------------------------------------------------------------------------------------------------------------------------------------------------------------------------------------------------------------------------------------------------------------------------------------------------------------------------------------------------------------------------------------------------------------------+-----------+\n",
            "|US         |3653882    |R3O9SGZBVQBV76|B00FALQ1ZC|937001370     |Invicta Women's 15150 \"Angel\" 18k Yellow Gold Ion-Plated Stainless Steel and Brown Leather Watch    |Watches         |5          |0            |0          |N   |Y                |Five Stars                                                |Absolutely love this watch! Get compliments almost every time I wear it. Dainty.                                                                                                                                                                                                                                                                                                                                                                                                                                                                                                      |2015-08-31 |\n",
            "|US         |14661224   |RKH8BNC3L5DLF |B00D3RGO20|484010722     |Kenneth Cole New York Women's KC4944 Automatic Silver Automatic Mesh Bracelet Analog Watch          |Watches         |5          |0            |0          |N   |Y                |I love thiswatch it keeps time wonderfully                |I love this watch it keeps time wonderfully.                                                                                                                                                                                                                                                                                                                                                                                                                                                                                                                                          |2015-08-31 |\n",
            "|US         |27324930   |R2HLE8WKZSU3NL|B00DKYC7TK|361166390     |Ritche 22mm Black Stainless Steel Bracelet Watch Band Strap Pebble Time/Pebble Classic              |Watches         |2          |1            |1          |N   |Y                |Two Stars                                                 |Scratches                                                                                                                                                                                                                                                                                                                                                                                                                                                                                                                                                                             |2015-08-31 |\n",
            "|US         |7211452    |R31U3UH5AZ42LL|B000EQS1JW|958035625     |Citizen Men's BM8180-03E Eco-Drive Stainless Steel Watch with Green Canvas Band                     |Watches         |5          |0            |0          |N   |Y                |Five Stars                                                |It works well on me. However, I found cheaper prices in other places after making the purchase                                                                                                                                                                                                                                                                                                                                                                                                                                                                                        |2015-08-31 |\n",
            "|US         |12733322   |R2SV659OUJ945Y|B00A6GFD7S|765328221     |Orient ER27009B Men's Symphony Automatic Stainless Steel Black Dial Mechanical Watch                |Watches         |4          |0            |0          |N   |Y                |Beautiful face, but cheap sounding links                  |Beautiful watch face.  The band looks nice all around.  The links do make that squeaky cheapo noise when you swing it back and forth on your wrist which can be embarrassing in front of watch enthusiasts.  However, to the naked eye from afar, you can't tell the links are cheap or folded because it is well polished and brushed and the folds are pretty tight for the most part.<br /><br />I love the new member of my collection and it looks great.  I've had it for about a week and so far it has kept good time despite day 1 which is typical of a new mechanical watch|2015-08-31 |\n",
            "|US         |6576411    |RA51CP8TR5A2L |B00EYSOSE8|230493695     |Casio Men's GW-9400BJ-1JF G-Shock Master of G Rangeman Digital Solar Black Carbon Fiber Insert Watch|Watches         |5          |0            |0          |N   |Y                |No complaints                                             |i love this watch for my purpose, about the people complaining should of done their research better before buying. dumb people.                                                                                                                                                                                                                                                                                                                                                                                                                                                       |2015-08-31 |\n",
            "|US         |11811565   |RB2Q7DLDN6TH6 |B00WM0QA3M|549298279     |Fossil Women's ES3851 Urban Traveler Multifunction Stainless Steel Watch - Rose                     |Watches         |5          |1            |1          |N   |Y                |Five Stars                                                |for my wife and she loved it, looks great and a great price!                                                                                                                                                                                                                                                                                                                                                                                                                                                                                                                          |2015-08-31 |\n",
            "|US         |49401598   |R2RHFJV0UYBK3Y|B00A4EYBR0|844009113     |INFANTRY Mens Night Vision Analog Quartz Wrist Watch with Nato Nylon Watchband-Red.                 |Watches         |1          |1            |5          |N   |N                |I was about to buy this thinking it was a ...             |I was about to buy this thinking it was a Swiss Army Infantry watch-- the description uses the words infantry and army--- when I realized it must be a fraud for $12.00. This should not be offered on Amazon-- it is designed to confuse consumers.                                                                                                                                                                                                                                                                                                                                  |2015-08-31 |\n",
            "|US         |45925069   |R2Z6JOQ94LFHEP|B00MAMPGGE|263720892     |G-Shock Men's Grey Sport Watch                                                                      |Watches         |5          |1            |2          |N   |Y                |Perfect watch!                                            |Watch is perfect. Rugged with the metal &#34;Bull Bars&#34;. The red accents are a great touch and I get compliments when wearing it. If you are worried about being able to read this in sunlight or in the dark don't! The LED ilumination works great! I might even get this in a different color for my next G-Shock purchase!                                                                                                                                                                                                                                                    |2015-08-31 |\n",
            "|US         |44751341   |RX27XIIWY5JPB |B004LBPB7Q|124278407     |Heiden Quad Watch Winder in Black Leather                                                           |Watches         |4          |0            |0          |N   |Y                |Great quality and build                                   |Great quality and build.<br />The motors are really silent.<br />After fiddling with the settings my watches are always charged and ready to use.                                                                                                                                                                                                                                                                                                                                                                                                                                     |2015-08-31 |\n",
            "|US         |9962330    |R15C7QEZT0LGZN|B00KGTVGKS|28017857      |Fossil Women's ES3621 Serena Crystal-Accented Two-Tone Stainless Steel Watch                        |Watches         |4          |2            |2          |N   |Y                |Satisfied                                                 |The watch was pretty much as it was described and how it looks. I really like the simplicity of it and it looks pretty amazing. It is slightly too big, so I have yet to adjust it, but I'm glad it's too big rather than too small. The weight is good which is what I was hoping for. Very satisfied with this purchase. I was slightly on the fence getting this one because of the previous fossil watch I had, which by some time, did have some gems fall off from ring around the numbers, but so far so good with this one! Excuse my bad lighting for my pic.                |2015-08-31 |\n",
            "|US         |16097204   |R361XSS37V0NCZ|B0039UT5OU|685450910     |Casio General Men's Watches Sporty Digital AE-2000W-1AVDF - WW                                      |Watches         |1          |0            |0          |N   |N                |I do not think this watch is a good product. Do not buy it|I bought this watch on 2013, the screen had a problem 10 months later. I sent the watch back to Casio Service Center in LA, they sent to me a replacement new watch. Last week, less than one year after I received the new watch, the battery is out.  I went to a shop to replace the battery. Then the A button of the watch do not working, so I could not change the time and other settings. I do not think this watch is a good product. Do not buy it.                                                                                                                        |2015-08-31 |\n",
            "|US         |51330346   |ROTNLALUAJAUB |B00MPF0XJQ|767769082     |2Tone Gold Silver Cable Band Ladies Bangle Cuff Watch                                               |Watches         |3          |0            |0          |N   |Y                |Three Stars                                               |It is a cheap watch that looks cheap.  There isn't much else to say.                                                                                                                                                                                                                                                                                                                                                                                                                                                                                                                  |2015-08-31 |\n",
            "|US         |4201739    |R2DYX7QU6BGOHR|B003P1OHHS|648595227     |Bulova Men's 98B143 Precisionist Charcoal Grey Dial Bracelet Watch                                  |Watches         |5          |0            |0          |N   |Y                |Five Stars                                                |Heavier than i though                                                                                                                                                                                                                                                                                                                                                                                                                                                                                                                                                                 |2015-08-31 |\n",
            "|US         |26339765   |RWASY7FKI7QOT |B00R70YEOE|457338020     |Casio - G-Shock - Gulfmaster - Black - GWN1000C-1A                                                  |Watches         |5          |2            |3          |N   |Y                |Worth it - love it                                        |Had it for several weeks now and I love it - reliable, functional, wears easy, not too heavy.  I also get a lot of comments on it - great watch!                                                                                                                                                                                                                                                                                                                                                                                                                                      |2015-08-31 |\n",
            "|US         |2692576    |R2KKYZIN3CCL21|B000FVE3BG|824370661     |Invicta Men's 3329 Force Collection Lefty Watch                                                     |Watches         |5          |0            |0          |N   |Y                |This is when different is good.                           |This one is different from the rest of my Invictas. I like the big watches but this one gave a classy more defined look for the craftsmanship. All of the colors compliment each other. It all starts from the stitching of the band.  Very nice watch.                                                                                                                                                                                                                                                                                                                               |2015-08-31 |\n",
            "|US         |44713366   |R22H4FGVD5O52O|B008X6JB12|814431355     |Seiko Women's SUT068 Dress Solar Classic Diamond-Accented Two-Tone Stainless Steel Watch            |Watches         |4          |1            |1          |N   |Y                |Thewatch is attractive and easy to read                   |The watch is attractive and easy to read, except for the date. The little diamonds are very, very tiny. All in all, I'm happy with it.                                                                                                                                                                                                                                                                                                                                                                                                                                                |2015-08-31 |\n",
            "|US         |32778769   |R11UACZERCM4ZY|B0040UOFPW|187700878     |Anne Klein Women's 109271MPTT Swarovski Crystal Accented Two-Tone Multi-Chain Bracelet Watch        |Watches         |5          |0            |0          |N   |Y                |Five Stars                                                |said my wife..                                                                                                                                                                                                                                                                                                                                                                                                                                                                                                                                                                        |2015-08-31 |\n",
            "|US         |27258523   |R1AT8NQ38UQOL6|B00UR2R5UY|594315262     |Guess U13630G1 Men's day and date Gunmetal dial Gunmetal tone bracelet                              |Watches         |5          |0            |0          |N   |Y                |Five Stars                                                |Nice watch, on time delivery from seller.                                                                                                                                                                                                                                                                                                                                                                                                                                                                                                                                             |2015-08-31 |\n",
            "|US         |42646538   |R2NCZRQGIF1Q75|B00HFF57L0|520810507     |Nixon Men's Geo Volt Sentry Stainless Steel Watch with Link Bracelet                                |Watches         |4          |0            |0          |N   |Y                |Very stylish                                              |Looks great and love to wear this watch.  Only negative thing is due to its blue/black colors, it is difficult to read in average or low light.  Good thing for me, I wear a watch for looks and not really for telling the time.                                                                                                                                                                                                                                                                                                                                                     |2015-08-31 |\n",
            "+-----------+-----------+--------------+----------+--------------+----------------------------------------------------------------------------------------------------+----------------+-----------+-------------+-----------+----+-----------------+----------------------------------------------------------+--------------------------------------------------------------------------------------------------------------------------------------------------------------------------------------------------------------------------------------------------------------------------------------------------------------------------------------------------------------------------------------------------------------------------------------------------------------------------------------------------------------------------------------------------------------------------------------+-----------+\n",
            "only showing top 20 rows\n",
            "\n"
          ],
          "name": "stdout"
        }
      ]
    },
    {
      "cell_type": "code",
      "metadata": {
        "colab": {
          "base_uri": "https://localhost:8080/"
        },
        "id": "1ANBzQKz3C5c",
        "outputId": "e99992c9-e28e-4716-be7d-54c59fa38b1a"
      },
      "source": [
        "# Count the # of watches in dataset 2\n",
        "df.count()"
      ],
      "execution_count": 4,
      "outputs": [
        {
          "output_type": "execute_result",
          "data": {
            "text/plain": [
              "960872"
            ]
          },
          "metadata": {
            "tags": []
          },
          "execution_count": 4
        }
      ]
    },
    {
      "cell_type": "code",
      "metadata": {
        "colab": {
          "base_uri": "https://localhost:8080/"
        },
        "id": "pzYNk4sI4EFa",
        "outputId": "27d0d03a-dd11-41c6-a040-9e2260769653"
      },
      "source": [
        "from pyspark.sql.functions import to_date\n",
        "# Transform DataFrame\n",
        "review_id_table = df.select(['review_id', 'customer_id', 'product_id', 'product_parent', to_date(\"review_date\",\"yyyy-MM-dd\").alias(\"review_date\")])\n",
        "review_id_table.show(truncate = False)"
      ],
      "execution_count": 5,
      "outputs": [
        {
          "output_type": "stream",
          "text": [
            "+--------------+-----------+----------+--------------+-----------+\n",
            "|review_id     |customer_id|product_id|product_parent|review_date|\n",
            "+--------------+-----------+----------+--------------+-----------+\n",
            "|R3O9SGZBVQBV76|3653882    |B00FALQ1ZC|937001370     |2015-08-31 |\n",
            "|RKH8BNC3L5DLF |14661224   |B00D3RGO20|484010722     |2015-08-31 |\n",
            "|R2HLE8WKZSU3NL|27324930   |B00DKYC7TK|361166390     |2015-08-31 |\n",
            "|R31U3UH5AZ42LL|7211452    |B000EQS1JW|958035625     |2015-08-31 |\n",
            "|R2SV659OUJ945Y|12733322   |B00A6GFD7S|765328221     |2015-08-31 |\n",
            "|RA51CP8TR5A2L |6576411    |B00EYSOSE8|230493695     |2015-08-31 |\n",
            "|RB2Q7DLDN6TH6 |11811565   |B00WM0QA3M|549298279     |2015-08-31 |\n",
            "|R2RHFJV0UYBK3Y|49401598   |B00A4EYBR0|844009113     |2015-08-31 |\n",
            "|R2Z6JOQ94LFHEP|45925069   |B00MAMPGGE|263720892     |2015-08-31 |\n",
            "|RX27XIIWY5JPB |44751341   |B004LBPB7Q|124278407     |2015-08-31 |\n",
            "|R15C7QEZT0LGZN|9962330    |B00KGTVGKS|28017857      |2015-08-31 |\n",
            "|R361XSS37V0NCZ|16097204   |B0039UT5OU|685450910     |2015-08-31 |\n",
            "|ROTNLALUAJAUB |51330346   |B00MPF0XJQ|767769082     |2015-08-31 |\n",
            "|R2DYX7QU6BGOHR|4201739    |B003P1OHHS|648595227     |2015-08-31 |\n",
            "|RWASY7FKI7QOT |26339765   |B00R70YEOE|457338020     |2015-08-31 |\n",
            "|R2KKYZIN3CCL21|2692576    |B000FVE3BG|824370661     |2015-08-31 |\n",
            "|R22H4FGVD5O52O|44713366   |B008X6JB12|814431355     |2015-08-31 |\n",
            "|R11UACZERCM4ZY|32778769   |B0040UOFPW|187700878     |2015-08-31 |\n",
            "|R1AT8NQ38UQOL6|27258523   |B00UR2R5UY|594315262     |2015-08-31 |\n",
            "|R2NCZRQGIF1Q75|42646538   |B00HFF57L0|520810507     |2015-08-31 |\n",
            "+--------------+-----------+----------+--------------+-----------+\n",
            "only showing top 20 rows\n",
            "\n"
          ],
          "name": "stdout"
        }
      ]
    },
    {
      "cell_type": "code",
      "metadata": {
        "colab": {
          "base_uri": "https://localhost:8080/"
        },
        "id": "cjxFAEsa4OGS",
        "outputId": "489b4ea2-5775-4115-db74-38b9847f0249"
      },
      "source": [
        "# This table will contain only unique values\n",
        "product_df = df.select(['product_id', 'product_title']).drop_duplicates()\n",
        "product_df.show(truncate = False)"
      ],
      "execution_count": 6,
      "outputs": [
        {
          "output_type": "stream",
          "text": [
            "+----------+---------------------------------------------------------------------------------------------------------+\n",
            "|product_id|product_title                                                                                            |\n",
            "+----------+---------------------------------------------------------------------------------------------------------+\n",
            "|B00EVX7V1I|Game Time Women's NFL Frost Series Watch                                                                 |\n",
            "|B009S4DODY|XOXO Women's XO5571 Silver-Tone Watch with Mesh Strap                                                    |\n",
            "|B00LBKXQRW|Anne Klein Women's AK/1814WTGB Glitter Accented Gold-Tone and White Ceramic Bracelet Watch               |\n",
            "|B0009P679Y|Invicta Men's 9938 Pro Diver Collection Automatic Diver Watch                                            |\n",
            "|B00DHF30RU|M&c Women's | Classy Crystal Embedded Bangle Look Watch with Self-Adjustable Bracelet | FC0365           |\n",
            "|B00NIDA43Y|GuTe Classic Skeleton Mechanical Wristwatch Automatic Steel Watch Silver Black X Dial                    |\n",
            "|B008EQDDPQ|Nautica Men's N13616G BFD 102 Stainless Steel and Brown Leather Watch                                    |\n",
            "|B004VRBZ66|Timex Men's T2N635 Weekender Classic Casual Cream Dial Bracelet Watch                                    |\n",
            "|B009BEO81I|Fossil Riley                                                                                             |\n",
            "|B008B39MTI|XOXO Women's XO5527 Clear Bracelet with Rhinestones on Gold Case Watch                                   |\n",
            "|B00TGPM8PU|Handmade Wooden Watch Made with Natural Red Sandalwood in Brown Leather Strap - HGW-159                  |\n",
            "|B00VNXQQQ0|Eterna 2520-41-64-1258 Men's Artena Black Genuine Leather White Dial                                     |\n",
            "|B00B1PV1C4|Nautica Men's N19598G NST 600 Flag Stainless Steel Watch with White Band                                 |\n",
            "|B00N1Y8TQ4|Tissot Men's T095.417.36.057.01 'Quickster' Black Dial Black Leather Strap Chronograph Swiss Quartz Watch|\n",
            "|B00G6DBTY6|red line Men's RL-60015 Ignition Analog Display Japanese Automatic Silver Watch                          |\n",
            "|B00HM04AYI|Columbia Men's Fieldmaster II Analog Display Quartz Watch                                                |\n",
            "|B00VI8HB96|GUESS I90176L1 Women's Gold-Tone Double-Chain Bracelet Watch                                             |\n",
            "|B00IT25WJU|LanTac DGN556B Dragon Muzzle Brake for AR15, M16 & M4 Rifles                                             |\n",
            "|B0106S12XE|Skmei S Shock Analog and Digital Sports Watch Green Color                                                |\n",
            "|B00FPSJ63Y|Michael Kors Ladies Chronograph Mother Of Pearl Stainless Steel Watch MK5020                             |\n",
            "+----------+---------------------------------------------------------------------------------------------------------+\n",
            "only showing top 20 rows\n",
            "\n"
          ],
          "name": "stdout"
        }
      ]
    },
    {
      "cell_type": "code",
      "metadata": {
        "colab": {
          "base_uri": "https://localhost:8080/"
        },
        "id": "JHJAmHW24aDr",
        "outputId": "95ddef78-12b2-45a4-e39b-532843f09114"
      },
      "source": [
        "#  Customer table for first data set\n",
        "customer_df = df.groupby('customer_id').count().withColumnRenamed('count', 'customer_count')\n",
        "customer_df.show(truncate = False)"
      ],
      "execution_count": 7,
      "outputs": [
        {
          "output_type": "stream",
          "text": [
            "+-----------+--------------+\n",
            "|customer_id|customer_count|\n",
            "+-----------+--------------+\n",
            "|1567510    |1             |\n",
            "|19502021   |1             |\n",
            "|12819130   |1             |\n",
            "|35329257   |2             |\n",
            "|108460     |1             |\n",
            "|5453476    |1             |\n",
            "|29913055   |1             |\n",
            "|30717305   |1             |\n",
            "|1570030    |1             |\n",
            "|19032020   |1             |\n",
            "|44178035   |1             |\n",
            "|26079415   |2             |\n",
            "|14230926   |1             |\n",
            "|43478048   |2             |\n",
            "|43694941   |1             |\n",
            "|12318815   |3             |\n",
            "|13731855   |1             |\n",
            "|740134     |1             |\n",
            "|41956754   |1             |\n",
            "|20324070   |3             |\n",
            "+-----------+--------------+\n",
            "only showing top 20 rows\n",
            "\n"
          ],
          "name": "stdout"
        }
      ]
    },
    {
      "cell_type": "code",
      "metadata": {
        "colab": {
          "base_uri": "https://localhost:8080/"
        },
        "id": "q4pwnoHK4huu",
        "outputId": "96b699d6-ec84-481b-cc3c-cf8380a82283"
      },
      "source": [
        "# vine table\n",
        "vine_df = df.select(['review_id', 'star_rating', 'helpful_votes', 'product_parent', 'total_votes', 'vine'])\n",
        "vine_df.show(truncate = False)"
      ],
      "execution_count": 8,
      "outputs": [
        {
          "output_type": "stream",
          "text": [
            "+--------------+-----------+-------------+--------------+-----------+----+\n",
            "|review_id     |star_rating|helpful_votes|product_parent|total_votes|vine|\n",
            "+--------------+-----------+-------------+--------------+-----------+----+\n",
            "|R3O9SGZBVQBV76|5          |0            |937001370     |0          |N   |\n",
            "|RKH8BNC3L5DLF |5          |0            |484010722     |0          |N   |\n",
            "|R2HLE8WKZSU3NL|2          |1            |361166390     |1          |N   |\n",
            "|R31U3UH5AZ42LL|5          |0            |958035625     |0          |N   |\n",
            "|R2SV659OUJ945Y|4          |0            |765328221     |0          |N   |\n",
            "|RA51CP8TR5A2L |5          |0            |230493695     |0          |N   |\n",
            "|RB2Q7DLDN6TH6 |5          |1            |549298279     |1          |N   |\n",
            "|R2RHFJV0UYBK3Y|1          |1            |844009113     |5          |N   |\n",
            "|R2Z6JOQ94LFHEP|5          |1            |263720892     |2          |N   |\n",
            "|RX27XIIWY5JPB |4          |0            |124278407     |0          |N   |\n",
            "|R15C7QEZT0LGZN|4          |2            |28017857      |2          |N   |\n",
            "|R361XSS37V0NCZ|1          |0            |685450910     |0          |N   |\n",
            "|ROTNLALUAJAUB |3          |0            |767769082     |0          |N   |\n",
            "|R2DYX7QU6BGOHR|5          |0            |648595227     |0          |N   |\n",
            "|RWASY7FKI7QOT |5          |2            |457338020     |3          |N   |\n",
            "|R2KKYZIN3CCL21|5          |0            |824370661     |0          |N   |\n",
            "|R22H4FGVD5O52O|4          |1            |814431355     |1          |N   |\n",
            "|R11UACZERCM4ZY|5          |0            |187700878     |0          |N   |\n",
            "|R1AT8NQ38UQOL6|5          |0            |594315262     |0          |N   |\n",
            "|R2NCZRQGIF1Q75|4          |0            |520810507     |0          |N   |\n",
            "+--------------+-----------+-------------+--------------+-----------+----+\n",
            "only showing top 20 rows\n",
            "\n"
          ],
          "name": "stdout"
        }
      ]
    }
  ]
}