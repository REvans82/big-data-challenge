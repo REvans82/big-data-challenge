{
  "nbformat": 4,
  "nbformat_minor": 0,
  "metadata": {
    "colab": {
      "name": "BigData1_pet.ipynb",
      "provenance": []
    },
    "kernelspec": {
      "name": "python3",
      "display_name": "Python 3"
    },
    "language_info": {
      "name": "python"
    }
  },
  "cells": [
    {
      "cell_type": "code",
      "metadata": {
        "colab": {
          "base_uri": "https://localhost:8080/"
        },
        "id": "pkUmAFQmaDPf",
        "outputId": "4c138712-5990-40b2-87c7-6ebee0f98684"
      },
      "source": [
        "import os\n",
        "# Find the latest version of spark 3.0  from http://www-us.apache.org/dist/spark/ and enter as the spark version\n",
        "# For example:\n",
        "spark_version = 'spark-3.1.2'\n",
        "# spark_version = 'spark-3.<enter version>'\n",
        "os.environ['SPARK_VERSION']=spark_version\n",
        "\n",
        "# Install Spark and Java\n",
        "!apt-get update\n",
        "!apt-get install openjdk-11-jdk-headless -qq > /dev/null\n",
        "#!wget -q https://downloads.apache.org/spark/spark-3.0.1/spark-3.0.1-bin-hadoop3.2.tgz\n",
        "!wget -q https://archive.apache.org/dist/spark/spark-3.1.2/spark-3.1.2-bin-hadoop2.7.tgz\n",
        "!wget https://jdbc.postgresql.org/download/postgresql-42.2.16.jar\n",
        "!tar xf $SPARK_VERSION-bin-hadoop2.7.tgz\n",
        "!pip install -q findspark\n",
        "\n",
        "# Set Environment Variables\n",
        "os.environ[\"JAVA_HOME\"] = \"/usr/lib/jvm/java-11-openjdk-amd64\"\n",
        "os.environ[\"SPARK_HOME\"] = f\"/content/{spark_version}-bin-hadoop2.7\"\n",
        "\n",
        "# Start a SparkSession\n",
        "import findspark\n",
        "findspark.init()"
      ],
      "execution_count": 1,
      "outputs": [
        {
          "output_type": "stream",
          "text": [
            "Hit:1 https://cloud.r-project.org/bin/linux/ubuntu bionic-cran40/ InRelease\n",
            "Ign:2 https://developer.download.nvidia.com/compute/cuda/repos/ubuntu1804/x86_64  InRelease\n",
            "Ign:3 https://developer.download.nvidia.com/compute/machine-learning/repos/ubuntu1804/x86_64  InRelease\n",
            "Hit:4 https://developer.download.nvidia.com/compute/cuda/repos/ubuntu1804/x86_64  Release\n",
            "Hit:5 https://developer.download.nvidia.com/compute/machine-learning/repos/ubuntu1804/x86_64  Release\n",
            "Hit:8 http://archive.ubuntu.com/ubuntu bionic InRelease\n",
            "Get:9 http://security.ubuntu.com/ubuntu bionic-security InRelease [88.7 kB]\n",
            "Get:10 http://archive.ubuntu.com/ubuntu bionic-updates InRelease [88.7 kB]\n",
            "Get:11 http://archive.ubuntu.com/ubuntu bionic-backports InRelease [74.6 kB]\n",
            "Get:12 http://ppa.launchpad.net/c2d4u.team/c2d4u4.0+/ubuntu bionic InRelease [15.9 kB]\n",
            "Get:13 http://archive.ubuntu.com/ubuntu bionic-updates/main amd64 Packages [2,658 kB]\n",
            "Hit:14 http://ppa.launchpad.net/cran/libgit2/ubuntu bionic InRelease\n",
            "Hit:15 http://ppa.launchpad.net/deadsnakes/ppa/ubuntu bionic InRelease\n",
            "Hit:16 http://ppa.launchpad.net/graphics-drivers/ppa/ubuntu bionic InRelease\n",
            "Get:17 http://ppa.launchpad.net/c2d4u.team/c2d4u4.0+/ubuntu bionic/main amd64 Packages [910 kB]\n",
            "Fetched 3,836 kB in 8s (498 kB/s)\n",
            "Reading package lists... Done\n",
            "--2021-07-11 01:39:46--  https://jdbc.postgresql.org/download/postgresql-42.2.16.jar\n",
            "Resolving jdbc.postgresql.org (jdbc.postgresql.org)... 72.32.157.228, 2001:4800:3e1:1::228\n",
            "Connecting to jdbc.postgresql.org (jdbc.postgresql.org)|72.32.157.228|:443... connected.\n",
            "HTTP request sent, awaiting response... 200 OK\n",
            "Length: 1002883 (979K) [application/java-archive]\n",
            "Saving to: ‘postgresql-42.2.16.jar.1’\n",
            "\n",
            "postgresql-42.2.16. 100%[===================>] 979.38K  1.21MB/s    in 0.8s    \n",
            "\n",
            "2021-07-11 01:39:48 (1.21 MB/s) - ‘postgresql-42.2.16.jar.1’ saved [1002883/1002883]\n",
            "\n"
          ],
          "name": "stdout"
        }
      ]
    },
    {
      "cell_type": "code",
      "metadata": {
        "id": "5en9EbM_ehwI"
      },
      "source": [
        "# Start Spark session\n",
        "from pyspark.sql import SparkSession\n",
        "spark = SparkSession.builder.appName(\"CloudETL\").config(\"spark.driver.extraClassPath\",\"/content/postgresql-42.2.16.jar\").getOrCreate()"
      ],
      "execution_count": 2,
      "outputs": []
    },
    {
      "cell_type": "code",
      "metadata": {
        "colab": {
          "base_uri": "https://localhost:8080/"
        },
        "id": "9oZoj_zklZff",
        "outputId": "c4a25dd9-b29d-4668-9eea-d19e5ec18b40"
      },
      "source": [
        "from pyspark import SparkFiles\n",
        "url =\"https://s3.amazonaws.com/amazon-reviews-pds/tsv/amazon_reviews_us_Pet_Products_v1_00.tsv.gz\"\n",
        "spark.sparkContext.addFile(url)\n",
        "df = spark.read.csv(SparkFiles.get(\"amazon_reviews_us_Pet_Products_v1_00.tsv.gz\"), sep=\"\\t\", header=True, inferSchema=True)\n",
        "\n",
        "# Show DataFrame\n",
        "df.show(truncate = False)"
      ],
      "execution_count": 3,
      "outputs": [
        {
          "output_type": "stream",
          "text": [
            "+-----------+-----------+--------------+----------+--------------+--------------------------------------------------------------------------------------------------------------------------------------------------------------------------------------------------+----------------+-----------+-------------+-----------+----+-----------------+---------------------------------------------------------------------------------------------------------------------+----------------------------------------------------------------------------------------------------------------------------------------------------------------------------------------------------------------------------------------------------------------------------------------------------------------------------------------------------------------------------------------------------------------------------------------------------------------------------------------------------------------------------------------------------------------------------------------------------------------------------------------------------------------------------------------------------------------------------------------------------------------------------------------------------------------------------------------------------------------------------------------------------------------------------------------------------------------------------------------------------------------------------------------------------------------------------------------------------------------------------------------------------------------------------------+-----------+\n",
            "|marketplace|customer_id|review_id     |product_id|product_parent|product_title                                                                                                                                                                                     |product_category|star_rating|helpful_votes|total_votes|vine|verified_purchase|review_headline                                                                                                      |review_body                                                                                                                                                                                                                                                                                                                                                                                                                                                                                                                                                                                                                                                                                                                                                                                                                                                                                                                                                                                                                                                                                                                                                                       |review_date|\n",
            "+-----------+-----------+--------------+----------+--------------+--------------------------------------------------------------------------------------------------------------------------------------------------------------------------------------------------+----------------+-----------+-------------+-----------+----+-----------------+---------------------------------------------------------------------------------------------------------------------+----------------------------------------------------------------------------------------------------------------------------------------------------------------------------------------------------------------------------------------------------------------------------------------------------------------------------------------------------------------------------------------------------------------------------------------------------------------------------------------------------------------------------------------------------------------------------------------------------------------------------------------------------------------------------------------------------------------------------------------------------------------------------------------------------------------------------------------------------------------------------------------------------------------------------------------------------------------------------------------------------------------------------------------------------------------------------------------------------------------------------------------------------------------------------------+-----------+\n",
            "|US         |28794885   |REAKC26P07MDN |B00Q0K9604|510387886     |(8-Pack) EZwhelp Belly Band/Wrap                                                                                                                                                                  |Pet Products    |5          |0            |0          |N   |Y                |A great purchase for \"dribbly\" dogs                                                                                  |Best belly bands on the market!  These are a great deal for an 8 pack.  Before we had 2 of another brand and we were constantly washing them and the velcro kept getting loose.  These are secure and with 8 in a pack, you can put on a fresh one each day.                                                                                                                                                                                                                                                                                                                                                                                                                                                                                                                                                                                                                                                                                                                                                                                                                                                                                                                      |2015-08-31 |\n",
            "|US         |11488901   |R3NU7OMZ4HQIEG|B00MBW5O9W|912374672     |Warren Eckstein's Hugs & Kisses Vitamin Mineral Supplement Treat for Dogs                                                                                                                         |Pet Products    |2          |0            |1          |N   |Y                |My dogs love Hugs and Kisses                                                                                         |My dogs love Hugs and Kisses.  However, the last time I bought a $40.00+ bottle from Amazon....something was wrong with them.  They are all stuck together and seemed moist.  Usually they are not.  Had to throw them out.                                                                                                                                                                                                                                                                                                                                                                                                                                                                                                                                                                                                                                                                                                                                                                                                                                                                                                                                                       |2015-08-31 |\n",
            "|US         |43214993   |R14QJW3XF8QO1P|B0084OHUIO|902215727     |Tyson's True Chews Premium Jerky - 12 ounce Chicken                                                                                                                                               |Pet Products    |5          |0            |0          |N   |Y                |I have been purchasing these for a long time. ...                                                                    |I have been purchasing these for a long time.  I havae 3 GSD and a Cane Corso and a Poodle.  When they get up in the morning after letting them out...they stand in line waiting for this treat....This holds them off a while until I make breakfast.                                                                                                                                                                                                                                                                                                                                                                                                                                                                                                                                                                                                                                                                                                                                                                                                                                                                                                                            |2015-08-31 |\n",
            "|US         |12835065   |R2HB7AX0394ZGY|B001GS71K2|568880110     |Soft Side Pet Crate, Navy/Tan                                                                                                                                                                     |Pet Products    |5          |0            |0          |N   |Y                |it is easy to open and close                                                                                         |It is extremely well constructed, it is easy to open and close. my dog enjoys her hideaway!                                                                                                                                                                                                                                                                                                                                                                                                                                                                                                                                                                                                                                                                                                                                                                                                                                                                                                                                                                                                                                                                                       |2015-08-31 |\n",
            "|US         |26334022   |RGKMPDQGSAHR3 |B004ABH1LG|692846826     |EliteField 3-Door Folding Soft Dog Crate, Indoor & Outdoor Pet Home, Multiple Sizes and Colors Available                                                                                          |Pet Products    |5          |0            |0          |N   |Y                |Dog crate                                                                                                            |Worked really well.  Very pleased with my purchase.                                                                                                                                                                                                                                                                                                                                                                                                                                                                                                                                                                                                                                                                                                                                                                                                                                                                                                                                                                                                                                                                                                                               |2015-08-31 |\n",
            "|US         |22283621   |R1DJCVPQGCV66E|B00AX0LFM4|590674141     |Carlson 68-Inch Wide Adjustable Freestanding Pet Gate, Premium Wood                                                                                                                               |Pet Products    |5          |0            |0          |N   |Y                |Five Stars                                                                                                           |I love my gates!  They look beautiful and they are easy to assemble and work.  I would definitely recommend!                                                                                                                                                                                                                                                                                                                                                                                                                                                                                                                                                                                                                                                                                                                                                                                                                                                                                                                                                                                                                                                                      |2015-08-31 |\n",
            "|US         |14469895   |R3V52EAWLPBFQG|B00DQFZGZ0|688538603     |Dog Seat Cover With Hammock for Cars, Trucks and SUVs - USA Based                                                                                                                                 |Pet Products    |3          |0            |0          |N   |Y                |Seat belt tugs on the cover                                                                                          |Didn't quite work in my BMW. I kept it, but the seat belt holes are not where they should be it doesn't cover the seat all the way be as the seat belts tug on the cover. Without seat belts it's fine. But I seat belt my dog in. It fits so so                                                                                                                                                                                                                                                                                                                                                                                                                                                                                                                                                                                                                                                                                                                                                                                                                                                                                                                                  |2015-08-31 |\n",
            "|US         |50896354   |R3DKO8J1J28QBI|B00DIRF9US|742358789     |The Bird Catcher Pro Pets Can Play Interactive Cat Toy Super Wand Fishing Pole Teaser with Two Feather Refill Replacement Pack                                                                    |Pet Products    |2          |0            |0          |N   |Y                |Great Pole, but String Too Short                                                                                     |I had the original DaBird and the flimsy pole stopped staying connected together after awhile so I decided to upgrade to the Bird Catcher Pro.  The wand is definitely superior, but the string that connects the bird is way too short.  It doesn't allow the bird to &#34;fly&#34; like the original.  My 2 cats (Cookie & Tiger) especially Tiger who is a jumper and loved the original, is completely uninterested.  I think if they made the string longer it would make it better.                                                                                                                                                                                                                                                                                                                                                                                                                                                                                                                                                                                                                                                                                         |2015-08-31 |\n",
            "|US         |18440567   |R764DBXGRNECG |B00JRCBFUG|869798483     |Cat Bed - Purrfect Thermal Cat Mat Leapord Prints                                                                                                                                                 |Pet Products    |5          |1            |1          |N   |N                |My cat loves it                                                                                                      |The pad is very soft and flexible what a dream no more bunching up covers I can fit it with a blanket for really cold winter weather or if cat has kittens in future to keep them comforted she loves her new mat and how it's almost always laid out nice and flat and she seems to love the heat that is reflected back ~~ I don't care about the electric heating pad because of plugging this is great if your pet like to sit by the window and watch outside especially when that area can be cold this is great for a sick one~ that's old~ or that's<br /><br />injured animal that has a problem keeping it self warm again add a fitted blanket to help with this All and all It's fantastic, and a very good price for high quality product you can put in the kitchen on the porch perfect for all year round I brush it before laundering to keep it looking good because our cats hair I got the Brown Leopard it's<br /><br />Machine-washable in cold gentle cycle line dry pad features a leopard-print motif that reverses to solid black berber fleece and it includes a hangtag And yes : ) the name fits your mat which is perfect to me Courtesy of purrfect|2015-08-31 |\n",
            "|US         |50502362   |RW1853GAT0Z9F |B000L3XYZ4|501118658     |PetSafe Drinkwell Platinum Pet Fountain                                                                                                                                                           |Pet Products    |5          |0            |0          |N   |Y                |Five Stars                                                                                                           |My cat drinks more water since I bought this item.  Quiet running and reasonably priced.                                                                                                                                                                                                                                                                                                                                                                                                                                                                                                                                                                                                                                                                                                                                                                                                                                                                                                                                                                                                                                                                                          |2015-08-31 |\n",
            "|US         |33930128   |R33GITXNUF1AD4|B00BOEXWFG|454737777     |Contech ZenDog Calming Compression Dog Shirt, X-Large, Black                                                                                                                                      |Pet Products    |2          |0            |0          |N   |Y                |Also had to pull a portion over my dogs head and his front legs through - not easy when trying to put on an 80 LB dog|Much smaller than measurements guide. Also had to pull a portion over my dogs head and his front legs through  - not easy when trying to put on an 80 LB dog!<br />Velcro is strong, but scares the dog because it is so loud.  Returned and purchased from Thundershirt - much happier.  Easy process to return.                                                                                                                                                                                                                                                                                                                                                                                                                                                                                                                                                                                                                                                                                                                                                                                                                                                                 |2015-08-31 |\n",
            "|US         |43534290   |R1H7AVM81TAYRV|B001HBBQKY|420905252     |Wellness Crunchy Puppy Bites Natural Grain Free Puppy Training Treats, Chicken & Carrots                                                                                                          |Pet Products    |1          |2            |2          |N   |Y                |DO NOT PURCHASE - ALL DOGS SICK                                                                                      |I used to love these treats, but they must have changed the ingredients because recently purchased packages have made all of my dogs and puppies sick, almost immediately. This was even more upsetting because the puppies were already underweight. I've very disappointed because these used to be great. I DO NOT RECOMMEND PURCHASING THESE ANYWHERE, not just through Amazon but also at any store. I bought some from Petco that had the same problem.                                                                                                                                                                                                                                                                                                                                                                                                                                                                                                                                                                                                                                                                                                                     |2015-08-31 |\n",
            "|US         |45555864   |R2ZOYAQZNNZZWV|B007O1FHB0|302588963     |Rx Vitamins Essentials 1 Piece 2.12 oz/60.10g Biotic Powder for Pets, One Size                                                                                                                    |Pet Products    |5          |0            |0          |N   |Y                |Five Stars                                                                                                           |Recommended by my vet, and the dogs love it.                                                                                                                                                                                                                                                                                                                                                                                                                                                                                                                                                                                                                                                                                                                                                                                                                                                                                                                                                                                                                                                                                                                                      |2015-08-31 |\n",
            "|US         |11147406   |R2FN1H3CGW6J8H|B001P3NU30|525778264     |Virbac C.E.T. Enzymatic Oral Hygiene Chews, Large Dog, 30 Count                                                                                                                                   |Pet Products    |1          |0            |0          |N   |Y                |Received wrong product                                                                                               |Yes I  ordered for large dogs and got medium. Thought something was wrong.                                                                                                                                                                                                                                                                                                                                                                                                                                                                                                                                                                                                                                                                                                                                                                                                                                                                                                                                                                                                                                                                                                        |2015-08-31 |\n",
            "|US         |6495678    |RJB41Q575XNG4 |B00ZP6HS6S|414117299     |Kitty Shack - 2 in 1 Tube Cat Mat and Bed, Pet Accessories                                                                                                                                        |Pet Products    |5          |0            |3          |N   |Y                |Five Stars                                                                                                           |It falls apart                                                                                                                                                                                                                                                                                                                                                                                                                                                                                                                                                                                                                                                                                                                                                                                                                                                                                                                                                                                                                                                                                                                                                                    |2015-08-31 |\n",
            "|US         |2019416    |R28W8BM1587CPF|B00IP05CUA|833937853     |Wellness Kittles Crunchy Natural Grain Free Cat Treats, 2-Ounce Bag                                                                                                                               |Pet Products    |5          |0            |0          |N   |Y                |kitty is ravenous for kittles                                                                                        |My cat really loves these &#34;Kittles&#34; treats! I got her the chicken flavor (because she doesn't like seafood). The cat is a very picky old lady and there are not many treats that she will accept, but she scarfs these down. They must taste good! I feel good about the ingredients and I'll keep getting these treats for her because she likes them so much.                                                                                                                                                                                                                                                                                                                                                                                                                                                                                                                                                                                                                                                                                                                                                                                                           |2015-08-31 |\n",
            "|US         |40459386   |R1II0M01NIG293|B001U8Y598|85343577      |OmniPet Anti-Ant No Tip Dog/Cat Dish Bowl, 8 oz, Silver                                                                                                                                           |Pet Products    |2          |0            |0          |N   |N                |Maybe other species are more stupid and will be kept out                                                             |This bowl is not ant-proof...at least not if you are dealing with fire ants.  It took less than an hour for the bowl to become filled with ants.  Maybe other species are more stupid and will be kept out, but if fire ants can get in, so can other crawly things.                                                                                                                                                                                                                                                                                                                                                                                                                                                                                                                                                                                                                                                                                                                                                                                                                                                                                                              |2015-08-31 |\n",
            "|US         |23126800   |RMB8N0DBRH34O |B011AY4JWO|499241195     |K9KONNECTION [New Color Collars] Dog No Bark Shock Collar Training System with Harmless Warning Beep & 7 Levels of Adjustable Sensitivity Control for Small, Medium & Large Dogs - Manual Included|Pet Products    |5          |1            |1          |N   |Y                |This works, dog now barks much less!                                                                                 |I have a small dog that barks at anything that moves outside. Since putting on this collar the barking has gotten much more controllable! My only downside I would say is if the dark shakes it gives him a warning beep (doesn't shock). So that might confuse my dog a bit but overall a great purchase.                                                                                                                                                                                                                                                                                                                                                                                                                                                                                                                                                                                                                                                                                                                                                                                                                                                                        |2015-08-31 |\n",
            "|US         |30238476   |R24WB6A6WVIPU6|B00DDSHE5A|409532388     |SUNSEED COMPANY 36065 Vita Prima Sun Salad for Rabbits, 10 oz                                                                                                                                     |Pet Products    |5          |0            |0          |N   |Y                |Yummy for Bunny!                                                                                                     |Bunny loves it! Even smells yummy for me to eat. Kind of a tomato basil smell/flavor.                                                                                                                                                                                                                                                                                                                                                                                                                                                                                                                                                                                                                                                                                                                                                                                                                                                                                                                                                                                                                                                                                             |2015-08-31 |\n",
            "|US         |35113999   |ROCJSH0P9YSRW |B00PJW5OR8|259271919     |CXB1983(TM)Cute Pet Dog Puppy Clothes Shirt Size XS/S/M/L Blue Red Color                                                                                                                          |Pet Products    |5          |0            |0          |N   |Y                |excellent price, fast ship, very happy                                                                               |Petfect,,quality is great, looks so hip on, nice quality after wear n wash                                                                                                                                                                                                                                                                                                                                                                                                                                                                                                                                                                                                                                                                                                                                                                                                                                                                                                                                                                                                                                                                                                        |2015-08-31 |\n",
            "+-----------+-----------+--------------+----------+--------------+--------------------------------------------------------------------------------------------------------------------------------------------------------------------------------------------------+----------------+-----------+-------------+-----------+----+-----------------+---------------------------------------------------------------------------------------------------------------------+----------------------------------------------------------------------------------------------------------------------------------------------------------------------------------------------------------------------------------------------------------------------------------------------------------------------------------------------------------------------------------------------------------------------------------------------------------------------------------------------------------------------------------------------------------------------------------------------------------------------------------------------------------------------------------------------------------------------------------------------------------------------------------------------------------------------------------------------------------------------------------------------------------------------------------------------------------------------------------------------------------------------------------------------------------------------------------------------------------------------------------------------------------------------------------+-----------+\n",
            "only showing top 20 rows\n",
            "\n"
          ],
          "name": "stdout"
        }
      ]
    },
    {
      "cell_type": "code",
      "metadata": {
        "colab": {
          "base_uri": "https://localhost:8080/"
        },
        "id": "8n53rbmrnEQD",
        "outputId": "b638757a-74f9-43cc-ee64-8579412bce53"
      },
      "source": [
        "# Count the # of pet_product records in dataset 1\n",
        "df.count()"
      ],
      "execution_count": 4,
      "outputs": [
        {
          "output_type": "execute_result",
          "data": {
            "text/plain": [
              "2643619"
            ]
          },
          "metadata": {
            "tags": []
          },
          "execution_count": 4
        }
      ]
    },
    {
      "cell_type": "code",
      "metadata": {
        "colab": {
          "base_uri": "https://localhost:8080/"
        },
        "id": "VsATZPHGnd3f",
        "outputId": "32286613-a07f-4f72-9cb0-ccb1e80a222f"
      },
      "source": [
        "from pyspark.sql.functions import to_date\n",
        "# Transform DataFrame\n",
        "review_id_table = df.select(['review_id', 'customer_id', 'product_id', 'product_parent', to_date(\"review_date\",\"yyyy-MM-dd\").alias(\"review_date\")])\n",
        "review_id_table.show(truncate = False)"
      ],
      "execution_count": 5,
      "outputs": [
        {
          "output_type": "stream",
          "text": [
            "+--------------+-----------+----------+--------------+-----------+\n",
            "|review_id     |customer_id|product_id|product_parent|review_date|\n",
            "+--------------+-----------+----------+--------------+-----------+\n",
            "|REAKC26P07MDN |28794885   |B00Q0K9604|510387886     |2015-08-31 |\n",
            "|R3NU7OMZ4HQIEG|11488901   |B00MBW5O9W|912374672     |2015-08-31 |\n",
            "|R14QJW3XF8QO1P|43214993   |B0084OHUIO|902215727     |2015-08-31 |\n",
            "|R2HB7AX0394ZGY|12835065   |B001GS71K2|568880110     |2015-08-31 |\n",
            "|RGKMPDQGSAHR3 |26334022   |B004ABH1LG|692846826     |2015-08-31 |\n",
            "|R1DJCVPQGCV66E|22283621   |B00AX0LFM4|590674141     |2015-08-31 |\n",
            "|R3V52EAWLPBFQG|14469895   |B00DQFZGZ0|688538603     |2015-08-31 |\n",
            "|R3DKO8J1J28QBI|50896354   |B00DIRF9US|742358789     |2015-08-31 |\n",
            "|R764DBXGRNECG |18440567   |B00JRCBFUG|869798483     |2015-08-31 |\n",
            "|RW1853GAT0Z9F |50502362   |B000L3XYZ4|501118658     |2015-08-31 |\n",
            "|R33GITXNUF1AD4|33930128   |B00BOEXWFG|454737777     |2015-08-31 |\n",
            "|R1H7AVM81TAYRV|43534290   |B001HBBQKY|420905252     |2015-08-31 |\n",
            "|R2ZOYAQZNNZZWV|45555864   |B007O1FHB0|302588963     |2015-08-31 |\n",
            "|R2FN1H3CGW6J8H|11147406   |B001P3NU30|525778264     |2015-08-31 |\n",
            "|RJB41Q575XNG4 |6495678    |B00ZP6HS6S|414117299     |2015-08-31 |\n",
            "|R28W8BM1587CPF|2019416    |B00IP05CUA|833937853     |2015-08-31 |\n",
            "|R1II0M01NIG293|40459386   |B001U8Y598|85343577      |2015-08-31 |\n",
            "|RMB8N0DBRH34O |23126800   |B011AY4JWO|499241195     |2015-08-31 |\n",
            "|R24WB6A6WVIPU6|30238476   |B00DDSHE5A|409532388     |2015-08-31 |\n",
            "|ROCJSH0P9YSRW |35113999   |B00PJW5OR8|259271919     |2015-08-31 |\n",
            "+--------------+-----------+----------+--------------+-----------+\n",
            "only showing top 20 rows\n",
            "\n"
          ],
          "name": "stdout"
        }
      ]
    },
    {
      "cell_type": "code",
      "metadata": {
        "colab": {
          "base_uri": "https://localhost:8080/"
        },
        "id": "RDD9z2XKsvRZ",
        "outputId": "f43ff695-49ea-4c8e-9f2e-02cdd18ed9ca"
      },
      "source": [
        "# This table will contain only unique values\n",
        "product_df = df.select(['product_id', 'product_title']).drop_duplicates()\n",
        "product_df.show(truncate = False)\n",
        "\n"
      ],
      "execution_count": 6,
      "outputs": [
        {
          "output_type": "stream",
          "text": [
            "+----------+-------------------------------------------------------------------------------------------------------------------+\n",
            "|product_id|product_title                                                                                                      |\n",
            "+----------+-------------------------------------------------------------------------------------------------------------------+\n",
            "|B00134HSYS|Special Edition Pet Stroller                                                                                       |\n",
            "|B00BS6NPBG|High Tech Pet 6-Pack Electronic Collar Battery for Model MS-4 and MS-5                                             |\n",
            "|B000F930FS|PetSafe ScoopFree Cat Litter Box Privacy Hood, Use with ScoopFree Self-Cleaning Cat Litter Box, 2 Color Options    |\n",
            "|B000FJ9QTW|Insight ActiviToys Olympia Rings Bird Toys                                                                         |\n",
            "|B000ALY0OQ|SmartCat Bootsie's Three-in-One Cat Scratcher                                                                      |\n",
            "|B00Q8ETIZ0|Dogloveit Rubber Hedgehog Spiky Ball Squeaker Dog Toy                                                              |\n",
            "|B002VU2BA4|Kragonfly Interchangeable Cat Toy - Attachment Only                                                                |\n",
            "|B00QA3K3QM|Attmu Retractable Extendable Belt Cord Pet Dog Leash, Supports up to 33lbs, 16.5 Feet Long                         |\n",
            "|B005DGHUC2|Zoo Med Laboratories SZMBB55 Tortoise Banquet Block, Net WT 5 oz                                                   |\n",
            "|B000XY7C7C|All Four Paws, The Comfy Cone Pet Recovery Collar                                                                  |\n",
            "|B004UUE26O|Animal Planet PET20109 Raptor Dog Costume                                                                          |\n",
            "|B008APML2C|Chuckit Medium Ultra Toss for Dogs                                                                                 |\n",
            "|B00ZJN7T8E|1 Half Portion Java Moss Portion (Taxiphyllum barbieri, formerly Vesicularia dubyana) - 3x3 Inches! by Aquatic Arts|\n",
            "|B00NRZC8LY|Hide-A-Toy Halloween Pumpkin Puzzle Plush Interactive Dog Toy, Large, Orange                                       |\n",
            "|B001P3NU4E|Virbac C.E.T. Enzymatic Oral Hygiene Chews for Cats                                                                |\n",
            "|B003TEQ2U6|Jolly Pets Jolly Egg Dog Toy                                                                                       |\n",
            "|B00DJSNF0M|Multipet Lenny the Monkey Latex Plush File Dog Toy, 10.5-Inch, Assorted                                            |\n",
            "|B00FXVFEQG|Bags on Board Durable Dog Poop Pickup Bags, 9 x 14 inches, Multiple Colors Available                               |\n",
            "|B005ORDWYA|Just One Bite II Chunks                                                                                            |\n",
            "|B003E77OG4|Petmate Sky Kennel                                                                                                 |\n",
            "+----------+-------------------------------------------------------------------------------------------------------------------+\n",
            "only showing top 20 rows\n",
            "\n"
          ],
          "name": "stdout"
        }
      ]
    },
    {
      "cell_type": "code",
      "metadata": {
        "colab": {
          "base_uri": "https://localhost:8080/"
        },
        "id": "lBXd4ugTuvlj",
        "outputId": "86f38ca6-0685-4488-a1f3-7d0f4e1981b6"
      },
      "source": [
        "#  Customer table for first data set\n",
        "customer_df = df.groupby('customer_id').count().withColumnRenamed('count', 'customer_count')\n",
        "customer_df.show(truncate = False)"
      ],
      "execution_count": 7,
      "outputs": [
        {
          "output_type": "stream",
          "text": [
            "+-----------+--------------+\n",
            "|customer_id|customer_count|\n",
            "+-----------+--------------+\n",
            "|10270641   |1             |\n",
            "|18365872   |1             |\n",
            "|16711087   |1             |\n",
            "|10742726   |2             |\n",
            "|41169638   |1             |\n",
            "|43622307   |1             |\n",
            "|24540309   |2             |\n",
            "|28258386   |1             |\n",
            "|35329257   |2             |\n",
            "|14552054   |1             |\n",
            "|14529507   |5             |\n",
            "|45392827   |5             |\n",
            "|47282953   |1             |\n",
            "|8201930    |1             |\n",
            "|20109760   |2             |\n",
            "|16405801   |4             |\n",
            "|15056685   |21            |\n",
            "|20840575   |2             |\n",
            "|39048303   |1             |\n",
            "|5596610    |1             |\n",
            "+-----------+--------------+\n",
            "only showing top 20 rows\n",
            "\n"
          ],
          "name": "stdout"
        }
      ]
    },
    {
      "cell_type": "code",
      "metadata": {
        "colab": {
          "base_uri": "https://localhost:8080/"
        },
        "id": "elGsFk4Luvyf",
        "outputId": "768ebbdd-0c20-451c-8789-3bf676ee508d"
      },
      "source": [
        "# vine table\n",
        "vine_df = df.select(['review_id', 'star_rating', 'helpful_votes', 'total_votes', 'vine'])\n",
        "vine_df.show(truncate = False)"
      ],
      "execution_count": 8,
      "outputs": [
        {
          "output_type": "stream",
          "text": [
            "+--------------+-----------+-------------+-----------+----+\n",
            "|review_id     |star_rating|helpful_votes|total_votes|vine|\n",
            "+--------------+-----------+-------------+-----------+----+\n",
            "|REAKC26P07MDN |5          |0            |0          |N   |\n",
            "|R3NU7OMZ4HQIEG|2          |0            |1          |N   |\n",
            "|R14QJW3XF8QO1P|5          |0            |0          |N   |\n",
            "|R2HB7AX0394ZGY|5          |0            |0          |N   |\n",
            "|RGKMPDQGSAHR3 |5          |0            |0          |N   |\n",
            "|R1DJCVPQGCV66E|5          |0            |0          |N   |\n",
            "|R3V52EAWLPBFQG|3          |0            |0          |N   |\n",
            "|R3DKO8J1J28QBI|2          |0            |0          |N   |\n",
            "|R764DBXGRNECG |5          |1            |1          |N   |\n",
            "|RW1853GAT0Z9F |5          |0            |0          |N   |\n",
            "|R33GITXNUF1AD4|2          |0            |0          |N   |\n",
            "|R1H7AVM81TAYRV|1          |2            |2          |N   |\n",
            "|R2ZOYAQZNNZZWV|5          |0            |0          |N   |\n",
            "|R2FN1H3CGW6J8H|1          |0            |0          |N   |\n",
            "|RJB41Q575XNG4 |5          |0            |3          |N   |\n",
            "|R28W8BM1587CPF|5          |0            |0          |N   |\n",
            "|R1II0M01NIG293|2          |0            |0          |N   |\n",
            "|RMB8N0DBRH34O |5          |1            |1          |N   |\n",
            "|R24WB6A6WVIPU6|5          |0            |0          |N   |\n",
            "|ROCJSH0P9YSRW |5          |0            |0          |N   |\n",
            "+--------------+-----------+-------------+-----------+----+\n",
            "only showing top 20 rows\n",
            "\n"
          ],
          "name": "stdout"
        }
      ]
    },
    {
      "cell_type": "code",
      "metadata": {
        "colab": {
          "base_uri": "https://localhost:8080/"
        },
        "id": "RaaA-GP0vKfK",
        "outputId": "88f82add-ee31-4bd8-c353-0cd0b28b9a81"
      },
      "source": [
        "# Store environmental variable\n",
        "from getpass import getpass\n",
        "password = getpass('Enter database password')\n",
        "# Configure settings for RDS\n",
        "mode = \"append\"\n",
        "jdbc_url=\"jdbc:postgresql://database-2.ctzgoawfyx4y.us-east-2.rds.amazonaws.com:5432/postgres\"\n",
        "config = {\"user\":\"postgres\",\n",
        "          \"password\": password,\n",
        "          \"driver\":\"org.postgresql.Driver\"}"
      ],
      "execution_count": 9,
      "outputs": [
        {
          "output_type": "stream",
          "text": [
            "Enter database password··········\n"
          ],
          "name": "stdout"
        }
      ]
    },
    {
      "cell_type": "code",
      "metadata": {
        "id": "6RVoACkmxp9I"
      },
      "source": [
        "# Write DataFrame to active_user table in RDS\n",
        "review_id_table.write.jdbc(url=jdbc_url, table='review_id_table', mode=mode, properties=config)"
      ],
      "execution_count": null,
      "outputs": []
    }
  ]
}